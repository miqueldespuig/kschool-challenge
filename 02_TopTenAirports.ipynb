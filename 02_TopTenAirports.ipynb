{
 "cells": [
  {
   "cell_type": "markdown",
   "metadata": {},
   "source": [
    "# Top 10 Airports\n",
    "\n",
    "Using `bookings` file.\n",
    "\n",
    "* Arrival airport is the column arr_port. It is the IATA code for the airport\n",
    "\n",
    "* To get the **total number of passengers** for an airport, you can **sum the column\n",
    "pax**, **grouping by arr_port**.\n",
    "Note that there is negative pax. That corresponds to\n",
    "cancelations. So to get the total number of passengers that have actually\n",
    "booked, you should sum including the negatives (that will remove the canceled\n",
    "bookings).\n",
    "* **Print the top 10 arrival airports** in the standard output, **including the number of\n",
    "passengers**.\n",
    "* Bonus point: Get the name of the city or airport corresponding to that airport\n",
    "(programatically, we suggest to have a look at GeoBases in Github)\n",
    "* Bonus point: Solve this problem using pandas (instead of any other approach)"
   ]
  },
  {
   "cell_type": "markdown",
   "metadata": {},
   "source": [
    "## Load modules and libraries"
   ]
  },
  {
   "cell_type": "code",
   "execution_count": 1,
   "metadata": {},
   "outputs": [],
   "source": [
    "import pandas as pd"
   ]
  },
  {
   "cell_type": "markdown",
   "metadata": {},
   "source": [
    "## File load"
   ]
  },
  {
   "cell_type": "markdown",
   "metadata": {},
   "source": [
    "Here the `pd.read_csv` help to fully explain what we're doing when loading the file.\n",
    "\n",
    "[Docs pandas.read_csv](https://pandas.pydata.org/docs/reference/api/pandas.read_csv.html)"
   ]
  },
  {
   "cell_type": "code",
   "execution_count": null,
   "metadata": {},
   "outputs": [],
   "source": [
    "help(pd.read_csv)"
   ]
  },
  {
   "cell_type": "code",
   "execution_count": 7,
   "metadata": {},
   "outputs": [],
   "source": [
    "file_path = \"/home/miki/Documents/data/challenge/bookings.csv.bz2\"\n",
    "df_bookings = pd.read_csv(\n",
    "    file_path,\n",
    "    compression = 'bz2',    # we know it's compressed although read_csv can infer the compression type\n",
    "    sep = '^',        # Weird separator used\n",
    "    nrows = 100,            # start small to go big\n",
    ")"
   ]
  },
  {
   "cell_type": "markdown",
   "metadata": {},
   "source": [
    "## Basic exploration"
   ]
  },
  {
   "cell_type": "code",
   "execution_count": 8,
   "metadata": {},
   "outputs": [
    {
     "data": {
      "text/plain": [
       "Index(['act_date           ', 'source', 'pos_ctry', 'pos_iata', 'pos_oid  ',\n",
       "       'rloc          ', 'cre_date           ', 'duration', 'distance',\n",
       "       'dep_port', 'dep_city', 'dep_ctry', 'arr_port', 'arr_city', 'arr_ctry',\n",
       "       'lst_port', 'lst_city', 'lst_ctry', 'brd_port', 'brd_city', 'brd_ctry',\n",
       "       'off_port', 'off_city', 'off_ctry', 'mkt_port', 'mkt_city', 'mkt_ctry',\n",
       "       'intl', 'route          ', 'carrier', 'bkg_class', 'cab_class',\n",
       "       'brd_time           ', 'off_time           ', 'pax', 'year', 'month',\n",
       "       'oid      '],\n",
       "      dtype='object')"
      ]
     },
     "execution_count": 8,
     "metadata": {},
     "output_type": "execute_result"
    }
   ],
   "source": [
    "df_bookings.columns"
   ]
  },
  {
   "cell_type": "markdown",
   "metadata": {},
   "source": [
    "We have malformed column names with extra spaces."
   ]
  },
  {
   "cell_type": "code",
   "execution_count": 9,
   "metadata": {},
   "outputs": [
    {
     "name": "stdout",
     "output_type": "stream",
     "text": [
      "<class 'pandas.core.frame.DataFrame'>\n",
      "RangeIndex: 100 entries, 0 to 99\n",
      "Data columns (total 38 columns):\n",
      " #   Column               Non-Null Count  Dtype \n",
      "---  ------               --------------  ----- \n",
      " 0   act_date             100 non-null    object\n",
      " 1   source               100 non-null    object\n",
      " 2   pos_ctry             100 non-null    object\n",
      " 3   pos_iata             100 non-null    object\n",
      " 4   pos_oid              100 non-null    object\n",
      " 5   rloc                 100 non-null    object\n",
      " 6   cre_date             100 non-null    object\n",
      " 7   duration             100 non-null    int64 \n",
      " 8   distance             100 non-null    int64 \n",
      " 9   dep_port             100 non-null    object\n",
      " 10  dep_city             100 non-null    object\n",
      " 11  dep_ctry             100 non-null    object\n",
      " 12  arr_port             100 non-null    object\n",
      " 13  arr_city             100 non-null    object\n",
      " 14  arr_ctry             100 non-null    object\n",
      " 15  lst_port             100 non-null    object\n",
      " 16  lst_city             100 non-null    object\n",
      " 17  lst_ctry             100 non-null    object\n",
      " 18  brd_port             100 non-null    object\n",
      " 19  brd_city             100 non-null    object\n",
      " 20  brd_ctry             100 non-null    object\n",
      " 21  off_port             100 non-null    object\n",
      " 22  off_city             100 non-null    object\n",
      " 23  off_ctry             100 non-null    object\n",
      " 24  mkt_port             100 non-null    object\n",
      " 25  mkt_city             100 non-null    object\n",
      " 26  mkt_ctry             100 non-null    object\n",
      " 27  intl                 100 non-null    int64 \n",
      " 28  route                100 non-null    object\n",
      " 29  carrier              100 non-null    object\n",
      " 30  bkg_class            100 non-null    object\n",
      " 31  cab_class            100 non-null    object\n",
      " 32  brd_time             100 non-null    object\n",
      " 33  off_time             100 non-null    object\n",
      " 34  pax                  100 non-null    int64 \n",
      " 35  year                 100 non-null    int64 \n",
      " 36  month                100 non-null    int64 \n",
      " 37  oid                  100 non-null    object\n",
      "dtypes: int64(6), object(32)\n",
      "memory usage: 29.8+ KB\n"
     ]
    }
   ],
   "source": [
    "df_bookings.info()"
   ]
  },
  {
   "cell_type": "markdown",
   "metadata": {},
   "source": [
    "Too much columns, to solve the problem we only need:\n",
    "* **arr_port**, arrival airpot. *Column 12*\n",
    "* **pax**, number of passengers. *Column 34*\n",
    "* **year**, year of the measurement. *Column 35*"
   ]
  },
  {
   "cell_type": "code",
   "execution_count": 40,
   "metadata": {},
   "outputs": [
    {
     "data": {
      "text/html": [
       "<div>\n",
       "<style scoped>\n",
       "    .dataframe tbody tr th:only-of-type {\n",
       "        vertical-align: middle;\n",
       "    }\n",
       "\n",
       "    .dataframe tbody tr th {\n",
       "        vertical-align: top;\n",
       "    }\n",
       "\n",
       "    .dataframe thead th {\n",
       "        text-align: right;\n",
       "    }\n",
       "</style>\n",
       "<table border=\"1\" class=\"dataframe\">\n",
       "  <thead>\n",
       "    <tr style=\"text-align: right;\">\n",
       "      <th></th>\n",
       "      <th>arr_port</th>\n",
       "      <th>pax</th>\n",
       "      <th>year</th>\n",
       "    </tr>\n",
       "  </thead>\n",
       "  <tbody>\n",
       "    <tr>\n",
       "      <th>0</th>\n",
       "      <td>LHR</td>\n",
       "      <td>-1</td>\n",
       "      <td>2013</td>\n",
       "    </tr>\n",
       "    <tr>\n",
       "      <th>1</th>\n",
       "      <td>CLT</td>\n",
       "      <td>1</td>\n",
       "      <td>2013</td>\n",
       "    </tr>\n",
       "    <tr>\n",
       "      <th>2</th>\n",
       "      <td>CLT</td>\n",
       "      <td>1</td>\n",
       "      <td>2013</td>\n",
       "    </tr>\n",
       "    <tr>\n",
       "      <th>3</th>\n",
       "      <td>SVO</td>\n",
       "      <td>1</td>\n",
       "      <td>2013</td>\n",
       "    </tr>\n",
       "    <tr>\n",
       "      <th>4</th>\n",
       "      <td>SVO</td>\n",
       "      <td>1</td>\n",
       "      <td>2013</td>\n",
       "    </tr>\n",
       "  </tbody>\n",
       "</table>\n",
       "</div>"
      ],
      "text/plain": [
       "   arr_port  pax  year\n",
       "0  LHR        -1  2013\n",
       "1  CLT         1  2013\n",
       "2  CLT         1  2013\n",
       "3  SVO         1  2013\n",
       "4  SVO         1  2013"
      ]
     },
     "execution_count": 40,
     "metadata": {},
     "output_type": "execute_result"
    }
   ],
   "source": [
    "cols_of_interest = [12, 34, 35]\n",
    "df_bookings = pd.read_csv(\n",
    "    file_path,\n",
    "    compression=\"bz2\",  # We know it's compressed although read_csv can infer the compression type\n",
    "    sep=\"^\",  # Weird separator used\n",
    "    nrows=100,  # start small to go big\n",
    "    usecols= cols_of_interest  # Can select columns by name (not ideal in this case) or by position\n",
    ")\n",
    "df_bookings.head()\n"
   ]
  },
  {
   "cell_type": "code",
   "execution_count": 22,
   "metadata": {},
   "outputs": [
    {
     "data": {
      "text/plain": [
       "Index(['arr_port', 'pax', 'year'], dtype='object')"
      ]
     },
     "execution_count": 22,
     "metadata": {},
     "output_type": "execute_result"
    }
   ],
   "source": [
    "# Cleanup column names, just in case\n",
    "df_bookings.columns = df_bookings.columns.str.strip()\n",
    "df_bookings.columns"
   ]
  },
  {
   "cell_type": "code",
   "execution_count": 18,
   "metadata": {},
   "outputs": [
    {
     "name": "stdout",
     "output_type": "stream",
     "text": [
      "['LHR     ' 'CLT     ' 'SVO     ' 'LGA     ' 'SIN     ' 'TUS     '\n",
      " 'CTA     ' 'YWG     ' 'PVG     ' 'SGC     ' 'ALG     ' 'DMM     '\n",
      " 'LED     ' 'LIS     ' 'BLR     ' 'BWI     ' 'DEL     ' 'TPA     '\n",
      " 'MNL     ' 'ULN     ' 'ZRH     ' 'ALA     ' 'FCO     ' 'AYT     '\n",
      " 'MVD     ' 'CVG     ' 'OTP     ' 'CDG     ' 'HAV     ' 'NRT     ']\n"
     ]
    }
   ],
   "source": [
    "arr_port_values = df_bookings[\"arr_port\"].unique()\n",
    "print(arr_port_values)\n"
   ]
  },
  {
   "cell_type": "markdown",
   "metadata": {},
   "source": [
    "Airport IATA codes have extra spaces."
   ]
  },
  {
   "cell_type": "code",
   "execution_count": 27,
   "metadata": {},
   "outputs": [
    {
     "data": {
      "text/plain": [
       "array(['LHR', 'CLT', 'SVO', 'LGA', 'SIN', 'TUS', 'CTA', 'YWG', 'PVG',\n",
       "       'SGC', 'ALG', 'DMM', 'LED', 'LIS', 'BLR', 'BWI', 'DEL', 'TPA',\n",
       "       'MNL', 'ULN', 'ZRH', 'ALA', 'FCO', 'AYT', 'MVD', 'CVG', 'OTP',\n",
       "       'CDG', 'HAV', 'NRT'], dtype=object)"
      ]
     },
     "execution_count": 27,
     "metadata": {},
     "output_type": "execute_result"
    }
   ],
   "source": [
    "df_bookings[\"arr_port\"] = df_bookings[\"arr_port\"].str.strip()\n",
    "df_bookings[\"arr_port\"].unique()"
   ]
  },
  {
   "cell_type": "markdown",
   "metadata": {},
   "source": [
    "`pax` and `year` columns are numeric. I should have a binned histogram, max, min, std, mean, median to see how columns are distributed but sinze we're working with only 100 rows it does not make much sense. So skipping it for now."
   ]
  },
  {
   "cell_type": "code",
   "execution_count": 28,
   "metadata": {},
   "outputs": [
    {
     "data": {
      "text/html": [
       "<div>\n",
       "<style scoped>\n",
       "    .dataframe tbody tr th:only-of-type {\n",
       "        vertical-align: middle;\n",
       "    }\n",
       "\n",
       "    .dataframe tbody tr th {\n",
       "        vertical-align: top;\n",
       "    }\n",
       "\n",
       "    .dataframe thead th {\n",
       "        text-align: right;\n",
       "    }\n",
       "</style>\n",
       "<table border=\"1\" class=\"dataframe\">\n",
       "  <thead>\n",
       "    <tr style=\"text-align: right;\">\n",
       "      <th></th>\n",
       "      <th>arr_port</th>\n",
       "      <th>pax</th>\n",
       "      <th>year</th>\n",
       "    </tr>\n",
       "  </thead>\n",
       "  <tbody>\n",
       "    <tr>\n",
       "      <th>0</th>\n",
       "      <td>LHR</td>\n",
       "      <td>-1</td>\n",
       "      <td>2013</td>\n",
       "    </tr>\n",
       "    <tr>\n",
       "      <th>1</th>\n",
       "      <td>CLT</td>\n",
       "      <td>1</td>\n",
       "      <td>2013</td>\n",
       "    </tr>\n",
       "    <tr>\n",
       "      <th>2</th>\n",
       "      <td>CLT</td>\n",
       "      <td>1</td>\n",
       "      <td>2013</td>\n",
       "    </tr>\n",
       "    <tr>\n",
       "      <th>3</th>\n",
       "      <td>SVO</td>\n",
       "      <td>1</td>\n",
       "      <td>2013</td>\n",
       "    </tr>\n",
       "    <tr>\n",
       "      <th>4</th>\n",
       "      <td>SVO</td>\n",
       "      <td>1</td>\n",
       "      <td>2013</td>\n",
       "    </tr>\n",
       "  </tbody>\n",
       "</table>\n",
       "</div>"
      ],
      "text/plain": [
       "  arr_port  pax  year\n",
       "0      LHR   -1  2013\n",
       "1      CLT    1  2013\n",
       "2      CLT    1  2013\n",
       "3      SVO    1  2013\n",
       "4      SVO    1  2013"
      ]
     },
     "execution_count": 28,
     "metadata": {},
     "output_type": "execute_result"
    }
   ],
   "source": [
    "df_bookings.head()"
   ]
  },
  {
   "cell_type": "code",
   "execution_count": 39,
   "metadata": {},
   "outputs": [
    {
     "data": {
      "text/plain": [
       "year  arr_port\n",
       "2013  BWI         6\n",
       "      PVG         6\n",
       "      NRT         6\n",
       "      YWG         4\n",
       "      SIN         4\n",
       "      LIS         4\n",
       "      AYT         3\n",
       "      FCO         3\n",
       "      ALA         2\n",
       "      TPA         2\n",
       "Name: pax, dtype: int64"
      ]
     },
     "execution_count": 39,
     "metadata": {},
     "output_type": "execute_result"
    }
   ],
   "source": [
    "pax_by_airport = df_bookings.groupby(by=[\"year\", \"arr_port\"])['pax'].sum()\n",
    "top10 = pax_by_airport.sort_values(ascending=False).head(10)\n",
    "top10"
   ]
  },
  {
   "cell_type": "markdown",
   "metadata": {},
   "source": [
    "## Work with the entire dataset\n",
    "\n",
    "The plan is:\n",
    "1. Tear the dataset down to smaller pieces.\n",
    "2. Perform aggregation operations on the small piece.\n",
    "3. Save it for later to combine all the smaller pieces.\n",
    "4. Aggregate again but with the smaller pieces or chunks of data.\n",
    "\n",
    "We will use the `chunk` parameter of the `pd.read_csv` function."
   ]
  },
  {
   "cell_type": "code",
   "execution_count": 43,
   "metadata": {},
   "outputs": [],
   "source": [
    "cols_of_interest = [12, 34, 35]\n",
    "with pd.read_csv(\n",
    "    file_path,\n",
    "    compression=\"bz2\",\n",
    "    sep=\"^\",\n",
    "    usecols=cols_of_interest,\n",
    "    chunksize =1000\n",
    ") as reader:\n",
    "    reader\n",
    "    for chunk in reader:\n",
    "        "
   ]
  },
  {
   "cell_type": "code",
   "execution_count": null,
   "metadata": {},
   "outputs": [],
   "source": []
  }
 ],
 "metadata": {
  "interpreter": {
   "hash": "6d7ada64799dea5f5f2a7617f553a76878651048d29c1fef865dd8ff2db16a6c"
  },
  "kernelspec": {
   "display_name": "Python 3.8.11 64-bit ('kschool': conda)",
   "language": "python",
   "name": "python3"
  },
  "language_info": {
   "codemirror_mode": {
    "name": "ipython",
    "version": 3
   },
   "file_extension": ".py",
   "mimetype": "text/x-python",
   "name": "python",
   "nbconvert_exporter": "python",
   "pygments_lexer": "ipython3",
   "version": "3.8.11"
  },
  "orig_nbformat": 4
 },
 "nbformat": 4,
 "nbformat_minor": 2
}
