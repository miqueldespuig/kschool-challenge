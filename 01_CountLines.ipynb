{
 "cells": [
  {
   "cell_type": "markdown",
   "metadata": {},
   "source": [
    "# Line Counting\n",
    "\n",
    "Count the number of lines for earch data file provided."
   ]
  },
  {
   "cell_type": "markdown",
   "metadata": {},
   "source": [
    "## Modules and libraries needed\n",
    "\n",
    "* bz2, for loading data directly from compressed file"
   ]
  },
  {
   "cell_type": "code",
   "execution_count": 1,
   "metadata": {},
   "outputs": [],
   "source": [
    "import bz2"
   ]
  },
  {
   "cell_type": "markdown",
   "metadata": {},
   "source": [
    "## File Location"
   ]
  },
  {
   "cell_type": "code",
   "execution_count": 2,
   "metadata": {},
   "outputs": [],
   "source": [
    "folder_path = \"/home/miki/Documents/data/challenge/\"\n",
    "filename01 = \"bookings.csv.bz2\"\n",
    "filename02 = \"searches.csv.bz2\""
   ]
  },
  {
   "cell_type": "code",
   "execution_count": 3,
   "metadata": {},
   "outputs": [],
   "source": [
    "import bz2"
   ]
  },
  {
   "cell_type": "code",
   "execution_count": 10,
   "metadata": {},
   "outputs": [
    {
     "name": "stdout",
     "output_type": "stream",
     "text": [
      "1000001\n"
     ]
    }
   ],
   "source": [
    "# Test development code\n",
    "count_check = 1e6\n",
    "with bz2.open(folder_path+filename01,'rt') as f:\n",
    "    for i, l in enumerate(f):\n",
    "        if i >= count_check:\n",
    "            break\n",
    "        pass\n",
    "    print ( i )"
   ]
  },
  {
   "cell_type": "code",
   "execution_count": 4,
   "metadata": {},
   "outputs": [],
   "source": [
    "# Convert it to a function\n",
    "def count_file_lines(path):\n",
    "    with bz2.open(path,'rt') as f:\n",
    "        for count, l in enumerate(f):\n",
    "            pass\n",
    "    return count"
   ]
  },
  {
   "cell_type": "code",
   "execution_count": 5,
   "metadata": {},
   "outputs": [
    {
     "data": {
      "text/plain": [
       "10000010"
      ]
     },
     "execution_count": 5,
     "metadata": {},
     "output_type": "execute_result"
    }
   ],
   "source": [
    "count_file_lines(folder_path+filename01)"
   ]
  },
  {
   "cell_type": "code",
   "execution_count": 6,
   "metadata": {},
   "outputs": [
    {
     "data": {
      "text/plain": [
       "20390198"
      ]
     },
     "execution_count": 6,
     "metadata": {},
     "output_type": "execute_result"
    }
   ],
   "source": [
    "count_file_lines(folder_path+filename02)"
   ]
  }
 ],
 "metadata": {
  "interpreter": {
   "hash": "6d7ada64799dea5f5f2a7617f553a76878651048d29c1fef865dd8ff2db16a6c"
  },
  "kernelspec": {
   "display_name": "Python 3.8.11 64-bit ('kschool': conda)",
   "language": "python",
   "name": "python3"
  },
  "language_info": {
   "codemirror_mode": {
    "name": "ipython",
    "version": 3
   },
   "file_extension": ".py",
   "mimetype": "text/x-python",
   "name": "python",
   "nbconvert_exporter": "python",
   "pygments_lexer": "ipython3",
   "version": "3.8.11"
  },
  "orig_nbformat": 4
 },
 "nbformat": 4,
 "nbformat_minor": 2
}
